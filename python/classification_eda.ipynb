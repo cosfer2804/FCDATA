{
 "cells": [
  {
   "cell_type": "markdown",
   "metadata": {
    "toc": true
   },
   "source": [
    "<h1>Table of Contents<span class=\"tocSkip\"></span></h1>\n",
    "<div class=\"toc\"><ul class=\"toc-item\"><li><span><a href=\"#EDA\" data-toc-modified-id=\"EDA-1\"><span class=\"toc-item-num\">1&nbsp;&nbsp;</span>EDA</a></span></li></ul></div>"
   ]
  },
  {
   "cell_type": "code",
   "execution_count": 1,
   "metadata": {},
   "outputs": [],
   "source": [
    "import pandas as pd \n",
    "import numpy as np \n",
    "import matplotlib.pyplot as plt \n",
    "import seaborn as sns"
   ]
  },
  {
   "cell_type": "code",
   "execution_count": 8,
   "metadata": {},
   "outputs": [],
   "source": [
    "df = pd.read_excel(r'C:\\Users\\Raphael Costa\\Desktop\\Thiago\\Data Mining\\IronHack\\GitHub\\FCDATA\\databases\\creditcardmarketing.xlsx')"
   ]
  },
  {
   "cell_type": "markdown",
   "metadata": {},
   "source": [
    "# EDA"
   ]
  },
  {
   "cell_type": "code",
   "execution_count": 14,
   "metadata": {
    "scrolled": true
   },
   "outputs": [],
   "source": [
    "df= df.drop(['Customer Number'], axis=1)"
   ]
  },
  {
   "cell_type": "code",
   "execution_count": 15,
   "metadata": {},
   "outputs": [
    {
     "data": {
      "text/html": [
       "<div>\n",
       "<style scoped>\n",
       "    .dataframe tbody tr th:only-of-type {\n",
       "        vertical-align: middle;\n",
       "    }\n",
       "\n",
       "    .dataframe tbody tr th {\n",
       "        vertical-align: top;\n",
       "    }\n",
       "\n",
       "    .dataframe thead th {\n",
       "        text-align: right;\n",
       "    }\n",
       "</style>\n",
       "<table border=\"1\" class=\"dataframe\">\n",
       "  <thead>\n",
       "    <tr style=\"text-align: right;\">\n",
       "      <th></th>\n",
       "      <th>Offer Accepted</th>\n",
       "      <th>Reward</th>\n",
       "      <th>Mailer Type</th>\n",
       "      <th>Income Level</th>\n",
       "      <th># Bank Accounts Open</th>\n",
       "      <th>Overdraft Protection</th>\n",
       "      <th>Credit Rating</th>\n",
       "      <th># Credit Cards Held</th>\n",
       "      <th># Homes Owned</th>\n",
       "      <th>Household Size</th>\n",
       "      <th>Own Your Home</th>\n",
       "      <th>Average Balance</th>\n",
       "      <th>Q1 Balance</th>\n",
       "      <th>Q2 Balance</th>\n",
       "      <th>Q3 Balance</th>\n",
       "      <th>Q4 Balance</th>\n",
       "    </tr>\n",
       "  </thead>\n",
       "  <tbody>\n",
       "    <tr>\n",
       "      <th>0</th>\n",
       "      <td>No</td>\n",
       "      <td>Air Miles</td>\n",
       "      <td>Letter</td>\n",
       "      <td>High</td>\n",
       "      <td>1</td>\n",
       "      <td>No</td>\n",
       "      <td>High</td>\n",
       "      <td>2</td>\n",
       "      <td>1</td>\n",
       "      <td>4</td>\n",
       "      <td>No</td>\n",
       "      <td>1160.75</td>\n",
       "      <td>1669.0</td>\n",
       "      <td>877.0</td>\n",
       "      <td>1095.0</td>\n",
       "      <td>1002.0</td>\n",
       "    </tr>\n",
       "    <tr>\n",
       "      <th>1</th>\n",
       "      <td>No</td>\n",
       "      <td>Air Miles</td>\n",
       "      <td>Letter</td>\n",
       "      <td>Medium</td>\n",
       "      <td>1</td>\n",
       "      <td>No</td>\n",
       "      <td>Medium</td>\n",
       "      <td>2</td>\n",
       "      <td>2</td>\n",
       "      <td>5</td>\n",
       "      <td>Yes</td>\n",
       "      <td>147.25</td>\n",
       "      <td>39.0</td>\n",
       "      <td>106.0</td>\n",
       "      <td>78.0</td>\n",
       "      <td>366.0</td>\n",
       "    </tr>\n",
       "    <tr>\n",
       "      <th>2</th>\n",
       "      <td>No</td>\n",
       "      <td>Air Miles</td>\n",
       "      <td>Postcard</td>\n",
       "      <td>High</td>\n",
       "      <td>2</td>\n",
       "      <td>No</td>\n",
       "      <td>Medium</td>\n",
       "      <td>2</td>\n",
       "      <td>1</td>\n",
       "      <td>2</td>\n",
       "      <td>Yes</td>\n",
       "      <td>276.50</td>\n",
       "      <td>367.0</td>\n",
       "      <td>352.0</td>\n",
       "      <td>145.0</td>\n",
       "      <td>242.0</td>\n",
       "    </tr>\n",
       "    <tr>\n",
       "      <th>3</th>\n",
       "      <td>No</td>\n",
       "      <td>Air Miles</td>\n",
       "      <td>Letter</td>\n",
       "      <td>Medium</td>\n",
       "      <td>2</td>\n",
       "      <td>No</td>\n",
       "      <td>High</td>\n",
       "      <td>1</td>\n",
       "      <td>1</td>\n",
       "      <td>4</td>\n",
       "      <td>No</td>\n",
       "      <td>1219.00</td>\n",
       "      <td>1578.0</td>\n",
       "      <td>1760.0</td>\n",
       "      <td>1119.0</td>\n",
       "      <td>419.0</td>\n",
       "    </tr>\n",
       "    <tr>\n",
       "      <th>4</th>\n",
       "      <td>No</td>\n",
       "      <td>Air Miles</td>\n",
       "      <td>Letter</td>\n",
       "      <td>Medium</td>\n",
       "      <td>1</td>\n",
       "      <td>No</td>\n",
       "      <td>Medium</td>\n",
       "      <td>2</td>\n",
       "      <td>1</td>\n",
       "      <td>6</td>\n",
       "      <td>Yes</td>\n",
       "      <td>1211.00</td>\n",
       "      <td>2140.0</td>\n",
       "      <td>1357.0</td>\n",
       "      <td>982.0</td>\n",
       "      <td>365.0</td>\n",
       "    </tr>\n",
       "  </tbody>\n",
       "</table>\n",
       "</div>"
      ],
      "text/plain": [
       "  Offer Accepted     Reward Mailer Type Income Level  # Bank Accounts Open  \\\n",
       "0             No  Air Miles      Letter         High                     1   \n",
       "1             No  Air Miles      Letter       Medium                     1   \n",
       "2             No  Air Miles    Postcard         High                     2   \n",
       "3             No  Air Miles      Letter       Medium                     2   \n",
       "4             No  Air Miles      Letter       Medium                     1   \n",
       "\n",
       "  Overdraft Protection Credit Rating  # Credit Cards Held  # Homes Owned  \\\n",
       "0                   No          High                    2              1   \n",
       "1                   No        Medium                    2              2   \n",
       "2                   No        Medium                    2              1   \n",
       "3                   No          High                    1              1   \n",
       "4                   No        Medium                    2              1   \n",
       "\n",
       "   Household Size Own Your Home  Average Balance  Q1 Balance  Q2 Balance  \\\n",
       "0               4            No          1160.75      1669.0       877.0   \n",
       "1               5           Yes           147.25        39.0       106.0   \n",
       "2               2           Yes           276.50       367.0       352.0   \n",
       "3               4            No          1219.00      1578.0      1760.0   \n",
       "4               6           Yes          1211.00      2140.0      1357.0   \n",
       "\n",
       "   Q3 Balance  Q4 Balance  \n",
       "0      1095.0      1002.0  \n",
       "1        78.0       366.0  \n",
       "2       145.0       242.0  \n",
       "3      1119.0       419.0  \n",
       "4       982.0       365.0  "
      ]
     },
     "execution_count": 15,
     "metadata": {},
     "output_type": "execute_result"
    }
   ],
   "source": [
    "df.head(5)"
   ]
  },
  {
   "cell_type": "code",
   "execution_count": 18,
   "metadata": {
    "scrolled": false
   },
   "outputs": [
    {
     "name": "stdout",
     "output_type": "stream",
     "text": [
      "<class 'pandas.core.frame.DataFrame'>\n",
      "RangeIndex: 18000 entries, 0 to 17999\n",
      "Data columns (total 16 columns):\n",
      " #   Column                Non-Null Count  Dtype  \n",
      "---  ------                --------------  -----  \n",
      " 0   Offer Accepted        18000 non-null  object \n",
      " 1   Reward                18000 non-null  object \n",
      " 2   Mailer Type           18000 non-null  object \n",
      " 3   Income Level          18000 non-null  object \n",
      " 4   # Bank Accounts Open  18000 non-null  int64  \n",
      " 5   Overdraft Protection  18000 non-null  object \n",
      " 6   Credit Rating         18000 non-null  object \n",
      " 7   # Credit Cards Held   18000 non-null  int64  \n",
      " 8   # Homes Owned         18000 non-null  int64  \n",
      " 9   Household Size        18000 non-null  int64  \n",
      " 10  Own Your Home         18000 non-null  object \n",
      " 11  Average Balance       17976 non-null  float64\n",
      " 12  Q1 Balance            17976 non-null  float64\n",
      " 13  Q2 Balance            17976 non-null  float64\n",
      " 14  Q3 Balance            17976 non-null  float64\n",
      " 15  Q4 Balance            17976 non-null  float64\n",
      "dtypes: float64(5), int64(4), object(7)\n",
      "memory usage: 2.2+ MB\n"
     ]
    }
   ],
   "source": [
    "df.info()"
   ]
  },
  {
   "cell_type": "markdown",
   "metadata": {},
   "source": [
    "- empty values in average balance, q1, q2, q3, q4 balance = study them"
   ]
  }
 ],
 "metadata": {
  "kernelspec": {
   "display_name": "Python 3",
   "language": "python",
   "name": "python3"
  },
  "language_info": {
   "codemirror_mode": {
    "name": "ipython",
    "version": 3
   },
   "file_extension": ".py",
   "mimetype": "text/x-python",
   "name": "python",
   "nbconvert_exporter": "python",
   "pygments_lexer": "ipython3",
   "version": "3.8.5"
  },
  "toc": {
   "base_numbering": 1,
   "nav_menu": {},
   "number_sections": true,
   "sideBar": true,
   "skip_h1_title": false,
   "title_cell": "Table of Contents",
   "title_sidebar": "Contents",
   "toc_cell": true,
   "toc_position": {},
   "toc_section_display": true,
   "toc_window_display": false
  },
  "varInspector": {
   "cols": {
    "lenName": 16,
    "lenType": 16,
    "lenVar": 40
   },
   "kernels_config": {
    "python": {
     "delete_cmd_postfix": "",
     "delete_cmd_prefix": "del ",
     "library": "var_list.py",
     "varRefreshCmd": "print(var_dic_list())"
    },
    "r": {
     "delete_cmd_postfix": ") ",
     "delete_cmd_prefix": "rm(",
     "library": "var_list.r",
     "varRefreshCmd": "cat(var_dic_list()) "
    }
   },
   "types_to_exclude": [
    "module",
    "function",
    "builtin_function_or_method",
    "instance",
    "_Feature"
   ],
   "window_display": true
  }
 },
 "nbformat": 4,
 "nbformat_minor": 4
}
