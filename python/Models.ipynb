{
 "cells": [
  {
   "cell_type": "markdown",
   "metadata": {
    "toc": true
   },
   "source": [
    "<h1>Table of Contents<span class=\"tocSkip\"></span></h1>\n",
    "<div class=\"toc\"><ul class=\"toc-item\"><li><span><a href=\"#Import-Cleeaned-Database\" data-toc-modified-id=\"Import-Cleeaned-Database-1\"><span class=\"toc-item-num\">1&nbsp;&nbsp;</span>Import Cleeaned Database</a></span></li><li><span><a href=\"#Model-1\" data-toc-modified-id=\"Model-1-2\"><span class=\"toc-item-num\">2&nbsp;&nbsp;</span>Model 1</a></span><ul class=\"toc-item\"><li><span><a href=\"#Insight-Model-1:\" data-toc-modified-id=\"Insight-Model-1:-2.1\"><span class=\"toc-item-num\">2.1&nbsp;&nbsp;</span>Insight Model 1:</a></span><ul class=\"toc-item\"><li><span><a href=\"#Improvements\" data-toc-modified-id=\"Improvements-2.1.1\"><span class=\"toc-item-num\">2.1.1&nbsp;&nbsp;</span>Improvements</a></span></li></ul></li></ul></li><li><span><a href=\"#Feature-Engineer\" data-toc-modified-id=\"Feature-Engineer-3\"><span class=\"toc-item-num\">3&nbsp;&nbsp;</span>Feature Engineer</a></span></li></ul></div>"
   ]
  },
  {
   "cell_type": "code",
   "execution_count": 1,
   "metadata": {},
   "outputs": [],
   "source": [
    "import pandas as pd\n",
    "import numpy as np\n",
    "import seaborn as sns\n",
    "import matplotlib.pyplot as plt\n",
    "%matplotlib inline\n",
    "from sklearn.neighbors import KNeighborsClassifier\n",
    "from sklearn.preprocessing import MinMaxScaler\n",
    "from sklearn.metrics import confusion_matrix, accuracy_score, ConfusionMatrixDisplay\n",
    "from sklearn.model_selection import train_test_split\n",
    "sns.set(rc={\"figure.figsize\":(12.,6.)})\n",
    "sns.set_style(\"whitegrid\")\n",
    "from matplotlib.colors import BASE_COLORS\n",
    "\n",
    "from sklearn.linear_model import LogisticRegression\n",
    "from sklearn.ensemble import RandomForestClassifier\n",
    "from sklearn.neighbors import KNeighborsClassifier\n",
    "from sklearn.ensemble import GradientBoostingClassifier\n",
    "from sklearn import metrics\n",
    "from sklearn.model_selection import KFold, cross_val_score"
   ]
  },
  {
   "cell_type": "markdown",
   "metadata": {},
   "source": [
    "# Import Cleeaned Database\n",
    "- df: cleaned data base with offer_accepted and offer (to apply the model need to drop one of them);\n",
    "- df_dummies: dataframe with dummies on the categorical values (also need to drop offer or offer_accepted);"
   ]
  },
  {
   "cell_type": "code",
   "execution_count": 9,
   "metadata": {},
   "outputs": [],
   "source": [
    "df = pd.read_excel(r'C:\\Users\\Raphael Costa\\Desktop\\Thiago\\Data Mining\\IronHack\\GitHub\\FCDATA\\python\\df.xlsx')\n",
    "df_dummies = pd.read_excel(r'C:\\Users\\Raphael Costa\\Desktop\\Thiago\\Data Mining\\IronHack\\GitHub\\FCDATA\\python\\df_dummies.xlsx')"
   ]
  },
  {
   "cell_type": "code",
   "execution_count": 10,
   "metadata": {
    "scrolled": true
   },
   "outputs": [
    {
     "name": "stdout",
     "output_type": "stream",
     "text": [
      "<class 'pandas.core.frame.DataFrame'>\n",
      "RangeIndex: 18000 entries, 0 to 17999\n",
      "Data columns (total 17 columns):\n",
      " #   Column                Non-Null Count  Dtype  \n",
      "---  ------                --------------  -----  \n",
      " 0   offer_accepted        18000 non-null  object \n",
      " 1   reward                18000 non-null  object \n",
      " 2   mailer_type           18000 non-null  object \n",
      " 3   income_level          18000 non-null  object \n",
      " 4   accounts_open         18000 non-null  int64  \n",
      " 5   overdraft_protection  18000 non-null  object \n",
      " 6   credit_rating         18000 non-null  object \n",
      " 7   credit_cards_held     18000 non-null  int64  \n",
      " 8   homes_owned           18000 non-null  int64  \n",
      " 9   household_size        18000 non-null  int64  \n",
      " 10  own_your_home         18000 non-null  object \n",
      " 11  average_balance       18000 non-null  float64\n",
      " 12  q1_balance            18000 non-null  int64  \n",
      " 13  q2_balance            18000 non-null  int64  \n",
      " 14  q3_balance            18000 non-null  float64\n",
      " 15  q4_balance            18000 non-null  int64  \n",
      " 16  offer                 18000 non-null  int64  \n",
      "dtypes: float64(2), int64(8), object(7)\n",
      "memory usage: 2.3+ MB\n"
     ]
    }
   ],
   "source": [
    "df.info()"
   ]
  },
  {
   "cell_type": "markdown",
   "metadata": {},
   "source": [
    "# Model 1\n",
    "- drop offer and average_balance\n",
    "- target offer_accepted_Yes ## is it the same as offer_accepted"
   ]
  },
  {
   "cell_type": "code",
   "execution_count": null,
   "metadata": {},
   "outputs": [],
   "source": []
  },
  {
   "cell_type": "code",
   "execution_count": null,
   "metadata": {},
   "outputs": [],
   "source": [
    "df1_full.columns"
   ]
  },
  {
   "cell_type": "code",
   "execution_count": null,
   "metadata": {},
   "outputs": [],
   "source": [
    "df1_reduced = df1_full.drop(['offer','average_balance'], axis=1)\n",
    "y = df1_reduced['offer_accepted_Yes']\n",
    "X1 = df1_reduced.drop(['offer_accepted_Yes'], axis=1)"
   ]
  },
  {
   "cell_type": "code",
   "execution_count": null,
   "metadata": {},
   "outputs": [],
   "source": [
    "## for lop applying different methods\n",
    "KFold_Score = pd.DataFrame()\n",
    "classifiers = ['LogisticRegression', 'RandomForestClassifier', 'KNeighborsClassifier','GradientBoostingClassifier']\n",
    "models = [\n",
    "          LogisticRegression(max_iter = 3000),\n",
    "          RandomForestClassifier(n_estimators=200, random_state=0),\n",
    "          KNeighborsClassifier(),\n",
    "          GradientBoostingClassifier(random_state=0)\n",
    "         ]\n",
    "j = 0\n",
    "for i in models:\n",
    "    model = i\n",
    "    cv = KFold(n_splits=5, random_state=0, shuffle=True)\n",
    "    KFold_Score[classifiers[j]] = (cross_val_score(model, X1, np.ravel(y), scoring = 'accuracy', cv=cv))\n",
    "    j = j+1"
   ]
  },
  {
   "cell_type": "code",
   "execution_count": null,
   "metadata": {},
   "outputs": [],
   "source": [
    "mean = pd.DataFrame(KFold_Score.mean(), index= classifiers)\n",
    "KFold_Score = pd.concat([KFold_Score,mean.T])\n",
    "KFold_Score.index=['Fold 1','Fold 2','Fold 3','Fold 4','Fold 5','Mean']\n",
    "KFold_Score.T.sort_values(by=['Mean'], ascending = False)"
   ]
  },
  {
   "cell_type": "markdown",
   "metadata": {},
   "source": [
    "## Insight Model 1:\n",
    "- the accuracy is high, but the model is learning better to predict 'No' than 'Yes' (imbalanced data). In this case we are going to use some resampling methods. \n",
    "- +- 17k 'No', 1k 'Yes' \n",
    "\n",
    "### Improvements\n",
    "- check witch scaler is going to be the best one to use it.\n",
    "\n"
   ]
  },
  {
   "cell_type": "markdown",
   "metadata": {},
   "source": [
    "# Feature Engineer\n",
    "- concat income_level and credit_rating:"
   ]
  },
  {
   "cell_type": "code",
   "execution_count": null,
   "metadata": {},
   "outputs": [],
   "source": [
    "df['income_credit'] = df[\"income_level\"] +'_'+ df[\"credit_rating\"]\n",
    "example = df.loc[df['offer_accepted']=='Yes']\n",
    "example['income_credit'].value_counts()"
   ]
  },
  {
   "cell_type": "markdown",
   "metadata": {},
   "source": [
    "- with Medium and Low income and credit rating we have almost 74% of the 'yes'.\n",
    "- Best Clients : high income and high or medium credit_rating;\n",
    "- Regular Client: Medium income and medium credit_rating;"
   ]
  },
  {
   "cell_type": "code",
   "execution_count": null,
   "metadata": {},
   "outputs": [],
   "source": []
  }
 ],
 "metadata": {
  "kernelspec": {
   "display_name": "Python 3",
   "language": "python",
   "name": "python3"
  },
  "language_info": {
   "codemirror_mode": {
    "name": "ipython",
    "version": 3
   },
   "file_extension": ".py",
   "mimetype": "text/x-python",
   "name": "python",
   "nbconvert_exporter": "python",
   "pygments_lexer": "ipython3",
   "version": "3.8.5"
  },
  "toc": {
   "base_numbering": 1,
   "nav_menu": {},
   "number_sections": true,
   "sideBar": true,
   "skip_h1_title": false,
   "title_cell": "Table of Contents",
   "title_sidebar": "Contents",
   "toc_cell": true,
   "toc_position": {},
   "toc_section_display": true,
   "toc_window_display": false
  },
  "varInspector": {
   "cols": {
    "lenName": 16,
    "lenType": 16,
    "lenVar": 40
   },
   "kernels_config": {
    "python": {
     "delete_cmd_postfix": "",
     "delete_cmd_prefix": "del ",
     "library": "var_list.py",
     "varRefreshCmd": "print(var_dic_list())"
    },
    "r": {
     "delete_cmd_postfix": ") ",
     "delete_cmd_prefix": "rm(",
     "library": "var_list.r",
     "varRefreshCmd": "cat(var_dic_list()) "
    }
   },
   "types_to_exclude": [
    "module",
    "function",
    "builtin_function_or_method",
    "instance",
    "_Feature"
   ],
   "window_display": true
  }
 },
 "nbformat": 4,
 "nbformat_minor": 4
}
